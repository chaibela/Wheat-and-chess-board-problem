{
 "cells": [
  {
   "cell_type": "code",
   "execution_count": 2,
   "id": "650f680a",
   "metadata": {},
   "outputs": [
    {
     "name": "stdout",
     "output_type": "stream",
     "text": [
      "Arrange wheat on a plate of 4 squares (ndarray)：[[1 2]\n",
      " [4 8]]\n"
     ]
    }
   ],
   "source": [
    "n_squares = 4\n",
    "small_board_list = [1]\n",
    "for i in range(n_squares - 1):\n",
    "    small_board_list.append(2*small_board_list[-1])\n",
    "\n",
    "import numpy as np\n",
    "small_board_ndarray = np.array(small_board_list).reshape(2,2)\n",
    "print(\"Arrange wheat on a plate of 4 squares (ndarray)：{}\".format(small_board_ndarray))"
   ]
  },
  {
   "cell_type": "code",
   "execution_count": 3,
   "id": "f053d0da",
   "metadata": {},
   "outputs": [
    {
     "name": "stdout",
     "output_type": "stream",
     "text": [
      "Arrange wheat on an 8x8 square chess board (ndarray)：[[1.00000000e+00 2.00000000e+00 4.00000000e+00 8.00000000e+00\n",
      "  1.60000000e+01 3.20000000e+01 6.40000000e+01 1.28000000e+02]\n",
      " [2.56000000e+02 5.12000000e+02 1.02400000e+03 2.04800000e+03\n",
      "  4.09600000e+03 8.19200000e+03 1.63840000e+04 3.27680000e+04]\n",
      " [6.55360000e+04 1.31072000e+05 2.62144000e+05 5.24288000e+05\n",
      "  1.04857600e+06 2.09715200e+06 4.19430400e+06 8.38860800e+06]\n",
      " [1.67772160e+07 3.35544320e+07 6.71088640e+07 1.34217728e+08\n",
      "  2.68435456e+08 5.36870912e+08 1.07374182e+09 2.14748365e+09]\n",
      " [4.29496730e+09 8.58993459e+09 1.71798692e+10 3.43597384e+10\n",
      "  6.87194767e+10 1.37438953e+11 2.74877907e+11 5.49755814e+11]\n",
      " [1.09951163e+12 2.19902326e+12 4.39804651e+12 8.79609302e+12\n",
      "  1.75921860e+13 3.51843721e+13 7.03687442e+13 1.40737488e+14]\n",
      " [2.81474977e+14 5.62949953e+14 1.12589991e+15 2.25179981e+15\n",
      "  4.50359963e+15 9.00719925e+15 1.80143985e+16 3.60287970e+16]\n",
      " [7.20575940e+16 1.44115188e+17 2.88230376e+17 5.76460752e+17\n",
      "  1.15292150e+18 2.30584301e+18 4.61168602e+18 9.22337204e+18]]\n"
     ]
    }
   ],
   "source": [
    "# Create a function that returns a ndarray containing the number of wheat on an nxm chess board\n",
    "def nxm_board(n,m):\n",
    "    import numpy as np\n",
    "    n_squares = n * m\n",
    "    n_by_m_board_list = [1]\n",
    "    for i in range(n_squares - 1):\n",
    "        n_by_m_board_list.append(2*n_by_m_board_list[-1])\n",
    "    n_by_m_board_array = np.array(n_by_m_board_list).reshape(n,m)\n",
    "    return n_by_m_board_array\n",
    "print(\"Arrange wheat on an 8x8 square chess board (ndarray)：{}\".format(nxm_board(8,8)))"
   ]
  },
  {
   "cell_type": "code",
   "execution_count": 4,
   "id": "e05c9293",
   "metadata": {},
   "outputs": [
    {
     "name": "stdout",
     "output_type": "stream",
     "text": [
      "The total of wheat on a chess board of 8 x 8 squares is 1.8446744073709552e+19\n",
      "The average of each column of wheat on a 8 x 8 squares chess board is [9.04252160e+15 1.80850432e+16 3.61700864e+16 7.23401728e+16\n",
      " 1.44680346e+17 2.89360691e+17 5.78721383e+17 1.15744277e+18]\n"
     ]
    }
   ],
   "source": [
    "# Find the total number of wheat on a chess board of 8 x 8 squares. Also, find the average of each column and visualize it\n",
    "print(\"The total of wheat on a chess board of 8 x 8 squares is {}\".format(nxm_board(8,8).sum()))\n",
    "print(\"The average of each column of wheat on a 8 x 8 squares chess board is {}\".format(nxm_board(8,8).mean(axis=0)))"
   ]
  },
  {
   "cell_type": "code",
   "execution_count": 5,
   "id": "4ac814d8",
   "metadata": {},
   "outputs": [
    {
     "data": {
      "image/png": "[encoded data removed]",
      "text/plain": [
       "<Figure size 432x288 with 1 Axes>"
      ]
     },
     "metadata": {
      "needs_background": "light"
     },
     "output_type": "display_data"
    }
   ],
   "source": [
    "# Visualization of the average of each column of wheat on a 8 x 8 squares chess board using a bar chart\n",
    "import matplotlib.pyplot as plt\n",
    "%matplotlib inline\n",
    "plt.xlabel(\"column\")\n",
    "plt.ylabel(\"average\")\n",
    "plt.title(\"Average in each column\")\n",
    "plt.bar(np.arange(1,9), nxm_board(8,8).mean(axis=0))\n",
    "plt.show()"
   ]
  },
  {
   "cell_type": "code",
   "execution_count": 6,
   "id": "f01b5e27",
   "metadata": {},
   "outputs": [
    {
     "data": {
      "image/png": "[encoded data removed]",
      "text/plain": [
       "<Figure size 432x288 with 1 Axes>"
      ]
     },
     "metadata": {
      "needs_background": "light"
     },
     "output_type": "display_data"
    }
   ],
   "source": [
    "# Visualize the number of wheat on the 8x8 chess board as a heat map.\n",
    "import matplotlib.pyplot as plt\n",
    "%matplotlib inline\n",
    "plt.xlabel(\"column\")\n",
    "plt.ylabel(\"row\")\n",
    "plt.title(\"heatmap\")\n",
    "plt.pcolor(nxm_board(8,8))\n",
    "plt.show()"
   ]
  },
  {
   "cell_type": "code",
   "execution_count": 12,
   "id": "218f1c43",
   "metadata": {},
   "outputs": [
    {
     "name": "stdout",
     "output_type": "stream",
     "text": [
      "[2.55000000e+02 6.52800000e+04 1.67116800e+07 4.27819008e+09\n",
      " 1.09521666e+12 2.80375465e+14 7.17761191e+16 1.83746865e+19]\n",
      "1.8446744069414584e+19\n",
      "The number of times the wheat in the second half is greater than the first half is 1.8446744065119617e+19\n"
     ]
    }
   ],
   "source": [
    "# If the first half is considered to be the first 4 rows:\n",
    "sum_of_rows = (nxm_board(8,8).sum(axis=1))\n",
    "\n",
    "print(sum_of_rows)\n",
    "\n",
    "first_half_rows = sum_of_rows[:4]\n",
    "second_half_rows = sum_of_rows[4:]\n",
    "\n",
    "sum_first_half_rows = first_half_rows.sum()\n",
    "sum_second_half_rows = second_half_rows.sum()\n",
    "\n",
    "print(\"The number of times the wheat in the second half is greater than the first half is {:,}\".format(sum_second_half_rows-sum_first_half_rows))"
   ]
  },
  {
   "cell_type": "code",
   "execution_count": 14,
   "id": "5e7e97b9",
   "metadata": {},
   "outputs": [
    {
     "name": "stdout",
     "output_type": "stream",
     "text": [
      "[7.23401728e+16 1.44680346e+17 2.89360691e+17 5.78721383e+17\n",
      " 1.15744277e+18 2.31488553e+18 4.62977106e+18 9.25954212e+18]\n",
      "The number of times the wheat in the second half is greater than the first half is 1.7361641481138401e+19\n"
     ]
    }
   ],
   "source": [
    "#If the first half is considered to be the first 4 columns:\n",
    "sum_of_columns1 = (nxm_board(8,8).sum(axis=0))\n",
    "print(sum_of_columns1)\n",
    "first_half_columns = sum_of_columns1[:4]\n",
    "second_half_columns = sum_of_columns1[4:]\n",
    "sum_first_half_columns = first_half_columns.sum()\n",
    "sum_second_half_columns = second_half_columns.sum()\n",
    "\n",
    "print(\"The number of times the wheat in the second half is greater than the first half is {}\".format(sum_second_half_columns))"
   ]
  },
  {
   "cell_type": "code",
   "execution_count": 15,
   "id": "b8f17794",
   "metadata": {},
   "outputs": [
    {
     "name": "stdout",
     "output_type": "stream",
     "text": [
      "Arrange wheat on an 8x8 square chess board (ndarray)：[[                  1                   2                   4\n",
      "                    8                  16                  32\n",
      "                   64                 128]\n",
      " [                256                 512                1024\n",
      "                 2048                4096                8192\n",
      "                16384               32768]\n",
      " [              65536              131072              262144\n",
      "               524288             1048576             2097152\n",
      "              4194304             8388608]\n",
      " [           16777216            33554432            67108864\n",
      "            134217728           268435456           536870912\n",
      "           1073741824          2147483648]\n",
      " [         4294967296          8589934592         17179869184\n",
      "          34359738368         68719476736        137438953472\n",
      "         274877906944        549755813888]\n",
      " [      1099511627776       2199023255552       4398046511104\n",
      "        8796093022208      17592186044416      35184372088832\n",
      "       70368744177664     140737488355328]\n",
      " [    281474976710656     562949953421312    1125899906842624\n",
      "     2251799813685248    4503599627370496    9007199254740992\n",
      "    18014398509481984   36028797018963968]\n",
      " [  72057594037927936  144115188075855872  288230376151711744\n",
      "   576460752303423488 1152921504606846976 2305843009213693952\n",
      "  4611686018427387904 9223372036854775808]]\n"
     ]
    }
   ],
   "source": [
    "#Create function that uses np.append() and for statement\n",
    "def nxm_board_2(n,m):\n",
    "    import numpy as np\n",
    "    n_squares = n * m\n",
    "    small_board_ndarray = np.array([1])\n",
    "    for _ in range(n_squares - 1):\n",
    "       small_board_ndarray = np.append(small_board_ndarray, 2*small_board_ndarray[-1]).astype(np.uint64)\n",
    "    return small_board_ndarray.reshape(n,m)\n",
    "print(\"Arrange wheat on an 8x8 square chess board (ndarray)：{}\".format(nxm_board_2(8,8)))"
   ]
  },
  {
   "cell_type": "code",
   "execution_count": 22,
   "id": "60dbb597",
   "metadata": {},
   "outputs": [
    {
     "name": "stdout",
     "output_type": "stream",
     "text": [
      "61.8 ns ± 1.08 ns per loop (mean ± std. dev. of 7 runs, 10000000 loops each)\n"
     ]
    }
   ],
   "source": [
    "%%timeit\n",
    "\n",
    "def nxm_board(n,m):\n",
    "    import numpy as np\n",
    "    n_squares = n * m\n",
    "    n_by_m_board_list = [1]\n",
    "    for i in range(n_squares - 1):\n",
    "        n_by_m_board_list.append(2*n_by_m_board_list[-1])\n",
    "    n_by_m_board_array = np.array(n_by_m_board_list).reshape(n,m)\n",
    "    return n_by_m_board_array\n"
   ]
  },
  {
   "cell_type": "code",
   "execution_count": 23,
   "id": "8ae53b39",
   "metadata": {},
   "outputs": [
    {
     "name": "stdout",
     "output_type": "stream",
     "text": [
      "61.1 ns ± 1.51 ns per loop (mean ± std. dev. of 7 runs, 10000000 loops each)\n"
     ]
    }
   ],
   "source": [
    "%%timeit\n",
    "def nxm_board_2(n,m):\n",
    "    import numpy as np\n",
    "    n_squares = n * m\n",
    "    small_board_ndarray = np.array([1])\n",
    "    for _ in range(n_squares - 1):\n",
    "        small_board_ndarray = np.append(small_board_ndarray, 2*small_board_ndarray[-1]).astype(np.uint64)\n",
    "    return small_board_ndarray.reshape(n,m)\n"
   ]
  },
  {
   "cell_type": "code",
   "execution_count": 24,
   "id": "018a41bf",
   "metadata": {},
   "outputs": [
    {
     "name": "stdout",
     "output_type": "stream",
     "text": [
      "59.8 ns ± 0.711 ns per loop (mean ± std. dev. of 7 runs, 10000000 loops each)\n"
     ]
    }
   ],
   "source": [
    "%%timeit\n",
    "def nxm_board_3(n,m):\n",
    "    import numpy as np\n",
    "    n_squares = n * m\n",
    "    indices_of_squares = np.arange(n_squares).astype(np.uint64).reshape(n,m)\n",
    "    board_ndarray = 2**indices_of_squares\n",
    "    return board_ndarray"
   ]
  },
  {
   "cell_type": "code",
   "execution_count": null,
   "id": "7e8963f1",
   "metadata": {},
   "outputs": [],
   "source": []
  }
 ],
 "metadata": {
  "kernelspec": {
   "display_name": "Python 3",
   "language": "python",
   "name": "python3"
  },
  "language_info": {
   "codemirror_mode": {
    "name": "ipython",
    "version": 3
   },
   "file_extension": ".py",
   "mimetype": "text/x-python",
   "name": "python",
   "nbconvert_exporter": "python",
   "pygments_lexer": "ipython3",
   "version": "3.8.8"
  }
 },
 "nbformat": 4,
 "nbformat_minor": 5
}
